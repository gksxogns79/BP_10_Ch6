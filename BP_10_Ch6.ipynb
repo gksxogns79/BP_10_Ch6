{
  "nbformat": 4,
  "nbformat_minor": 0,
  "metadata": {
    "colab": {
      "provenance": [],
      "authorship_tag": "ABX9TyMlu6fc9RIEmJuMq7Woy+4p",
      "include_colab_link": true
    },
    "kernelspec": {
      "name": "python3",
      "display_name": "Python 3"
    },
    "language_info": {
      "name": "python"
    }
  },
  "cells": [
    {
      "cell_type": "markdown",
      "metadata": {
        "id": "view-in-github",
        "colab_type": "text"
      },
      "source": [
        "<a href=\"https://colab.research.google.com/github/gksxogns79/BP_10_Ch6/blob/main/BP_10_Ch6.ipynb\" target=\"_parent\"><img src=\"https://colab.research.google.com/assets/colab-badge.svg\" alt=\"Open In Colab\"/></a>"
      ]
    },
    {
      "cell_type": "code",
      "execution_count": 2,
      "metadata": {
        "colab": {
          "base_uri": "https://localhost:8080/"
        },
        "id": "-PNFPUjVsNow",
        "outputId": "4a4df9bd-ae82-4cb2-e817-5d3680dccc2f"
      },
      "outputs": [
        {
          "output_type": "stream",
          "name": "stdout",
          "text": [
            "2 4 6 8 10 12 14 16 18 20 22 24 26 28 30 32 34 36 38 40 42 44 46 48 50 52 54 56 58 60 62 64 66 68 70 72 74 76 78 80 82 84 86 88 90 92 94 96 98 100 "
          ]
        }
      ],
      "source": [
        "for i in range(2,101,2):\n",
        "  print(i,end=\" \")"
      ]
    },
    {
      "cell_type": "code",
      "source": [
        "year= 0           \n",
        "balance = 1000\n",
        "while balance <= 2000:              #balance>= 이란 조건이 충족하지못해서 balance가 한번도 돌지못했다.\n",
        "  year = year + 1\n",
        "  interest = balance * 0.07\n",
        "  balance = balance + interest\n",
        "print(year,\"년이 걸립니다.\")"
      ],
      "metadata": {
        "colab": {
          "base_uri": "https://localhost:8080/"
        },
        "id": "nyKGFT4dsOoQ",
        "outputId": "53622626-3e9f-43d1-a566-09a82803f798"
      },
      "execution_count": 3,
      "outputs": [
        {
          "output_type": "stream",
          "name": "stdout",
          "text": [
            "11 년이 걸립니다.\n"
          ]
        }
      ]
    },
    {
      "cell_type": "code",
      "source": [
        "n = 1234\n",
        "sum = 0\n",
        "while n > 0:\n",
        "  digit = n%10\n",
        "  sum = sum + digit\n",
        "  n =  n // 10\n",
        "  print(sum)"
      ],
      "metadata": {
        "colab": {
          "base_uri": "https://localhost:8080/"
        },
        "id": "THpFDQWlvP04",
        "outputId": "26d80fe3-b404-4b7d-fbc1-c73b5c22b35c"
      },
      "execution_count": 6,
      "outputs": [
        {
          "output_type": "stream",
          "name": "stdout",
          "text": [
            "4\n",
            "7\n",
            "9\n",
            "10\n"
          ]
        }
      ]
    },
    {
      "cell_type": "code",
      "source": [
        "import random as rd \n",
        "while(True):\n",
        "  x = rd.randint(1,10)            #랜덤함수를 활용해서 랜덤 값을 입력받음\n",
        "  y = rd.randint(1,10)\n",
        "  cal = int(input(str(x)+\"*\"+str(y)+\"는\"))\n",
        "  if(cal == (x*y)):\n",
        "    print(\"맞았습니다\", end=\"\")     #변수들의 곱의 값이 같으면 맞았스빈다를 출력\n",
        "    break;                          # 종료할 수 있도록 break;을 걸어줌"
      ],
      "metadata": {
        "colab": {
          "base_uri": "https://localhost:8080/"
        },
        "id": "x65XB0T-vvBn",
        "outputId": "25f90879-3605-4297-af24-ef731f77339a"
      },
      "execution_count": 7,
      "outputs": [
        {
          "output_type": "stream",
          "name": "stdout",
          "text": [
            "9*2는11\n",
            "7*7는49\n",
            "맞았습니다"
          ]
        }
      ]
    },
    {
      "cell_type": "code",
      "source": [
        "sum = 0\n",
        "while(True):\n",
        "  x = int(input(\"정수를 입력하시오 :\"))\n",
        "  sum += x\n",
        "  if(x == 0):\n",
        "       print(\"합은\",sum,\"입니다.\")\n",
        "       break"
      ],
      "metadata": {
        "colab": {
          "base_uri": "https://localhost:8080/"
        },
        "id": "u5nv4LTMwj7P",
        "outputId": "620f3322-8249-41d6-c39a-c62c47485346"
      },
      "execution_count": 20,
      "outputs": [
        {
          "output_type": "stream",
          "name": "stdout",
          "text": [
            "정수를 입력하시오 :1\n",
            "정수를 입력하시오 :2\n",
            "정수를 입력하시오 :3\n",
            "정수를 입력하시오 :0\n",
            "합은 6 입니다.\n"
          ]
        }
      ]
    },
    {
      "cell_type": "code",
      "source": [
        "import random\n",
        "for i in range(3):                 #랜덤함수를 이용하여 랜덤값 도출\n",
        "  x = rd.randint(1,6)\n",
        "  y = rd.randint(1,6)\n",
        "  print(\"첫번째 주사위=\",x,\"두번째 주사위=\",y)"
      ],
      "metadata": {
        "colab": {
          "base_uri": "https://localhost:8080/"
        },
        "id": "oUusTEvSyGl-",
        "outputId": "474026b7-c1e6-4985-d04f-69192b2bc0b2"
      },
      "execution_count": 21,
      "outputs": [
        {
          "output_type": "stream",
          "name": "stdout",
          "text": [
            "첫번째 주사위= 4 두번째 주사위= 5\n",
            "첫번째 주사위= 1 두번째 주사위= 3\n",
            "첫번째 주사위= 6 두번째 주사위= 6\n"
          ]
        }
      ]
    },
    {
      "cell_type": "code",
      "source": [
        "import turtle\n",
        "\n",
        "t = turtle.Turtle()\n",
        "t.shape(\"turtle\")\n",
        "t.color(\"blue\")\n",
        "t.lt(90)\n",
        "\n",
        "for i in range (6):\n",
        "  t.fd(100); t.fd(-30); t.lt(60); t.fd(30); t.fd(-30)      #거북이가 위를 바라보기 때문에 위를 기준으로 시작\n",
        "  t.rt(120); t.fd(30); t.fd(-30); t.lt(60); t.fd(-70); t.lt(60)"
      ],
      "metadata": {
        "id": "joqkiLDjzMHk"
      },
      "execution_count": null,
      "outputs": []
    },
    {
      "cell_type": "code",
      "source": [
        "import turtle\n",
        "\n",
        "t = turtle.Turtle()\n",
        "t.color(\"red\")\n",
        "\n",
        "for i in range(10):        \n",
        "  for j in range(1,6):\n",
        "    t.lt(144)\n",
        "    t.fd(200)\n",
        "    t.lt(10)"
      ],
      "metadata": {
        "id": "HqwPoU8Tz3Y-"
      },
      "execution_count": null,
      "outputs": []
    },
    {
      "cell_type": "code",
      "source": [
        "import random \n",
        "import turtle\n",
        "\n",
        "t = turtle.Turtle()\n",
        "t.shape(\"turtle\")\n",
        "\n",
        "for i in range(10):\n",
        "  x=rd.randint(-150,150)              \n",
        "  y=rd.randint(-159,150)\n",
        "  r=rd.randint(1,100)\n",
        "      t.up()\n",
        "      t.goto(x,y)\n",
        "      t.down()\n",
        "      t.circle(r)"
      ],
      "metadata": {
        "id": "AasR7P560TSd"
      },
      "execution_count": null,
      "outputs": []
    },
    {
      "cell_type": "code",
      "source": [
        " import turtle\n",
        "t = turtle.Turtle()\n",
        "t.shape(\"turtle\")\n",
        "\n",
        "for i in range(5):\n",
        "     t.fd(200)\n",
        "     t.rt(90)\n",
        "     t.fd(20)\n",
        "     t.rt(90)\n",
        "     t.fd(200)\n",
        "     t.lt(90)\n",
        "     t.fd(20)\n",
        "     t.lt(90)"
      ],
      "metadata": {
        "id": "Q3K6mwLx1dsd"
      },
      "execution_count": null,
      "outputs": []
    },
    {
      "cell_type": "code",
      "source": [
        "import turtle\n",
        "\n",
        "t = turtle.Turtle()\n",
        "t.shape(\"turtle\")\n",
        "t.color(\"red\",\"yellow\")\n",
        "t.begin_fill()                 #색을 칠한다\n",
        "while True:\n",
        "    t.forward(200)\n",
        "    t.left(170)\n",
        "    if abs(t.pos())< 1:        #거북이의 위치가 0이되면 break를 사용하여 종료한다\n",
        "        break\n",
        "t.end_fill"
      ],
      "metadata": {
        "id": "YaknaLWn2B5b"
      },
      "execution_count": null,
      "outputs": []
    },
    {
      "cell_type": "code",
      "source": [
        "import turtle\n",
        "import math\n",
        "\n",
        "t = turtle.Turtle\n",
        "t.shape(\"turtle\")\n",
        "t.color(\"red\")\n",
        "\n",
        "for i in range(360):\n",
        "    sine=math.sin(math.pi*i/180)\n",
        "    print(sine)\n",
        "    t.goto(i,sine*100)"
      ],
      "metadata": {
        "id": "5N6fCh5O2iyz"
      },
      "execution_count": null,
      "outputs": []
    }
  ]
}